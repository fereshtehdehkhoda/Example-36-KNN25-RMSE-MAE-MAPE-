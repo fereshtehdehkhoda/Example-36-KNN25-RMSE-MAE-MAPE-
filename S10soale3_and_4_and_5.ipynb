{
  "cells": [
    {
      "cell_type": "markdown",
      "metadata": {
        "id": "view-in-github",
        "colab_type": "text"
      },
      "source": [
        "<a href=\"https://colab.research.google.com/github/fereshtehdehkhoda/Example-36-KNN25-RMSE-MAE-MAPE-/blob/main/S10soale3_and_4_and_5.ipynb\" target=\"_parent\"><img src=\"https://colab.research.google.com/assets/colab-badge.svg\" alt=\"Open In Colab\"/></a>"
      ]
    },
    {
      "cell_type": "code",
      "execution_count": null,
      "id": "7ec5e813-af47-4d1e-96ff-b50fb72c2f5a",
      "metadata": {
        "id": "7ec5e813-af47-4d1e-96ff-b50fb72c2f5a"
      },
      "outputs": [],
      "source": [
        "#روی داده‌های آموزش hw10_train.csv یک مدل نزدیکترین همسایه (kNN) بسازید. تعداد همسایه‌ها را 25 قرار دهید. شاخص RMSE روی داده‌های آموزش چقدر است؟"
      ]
    },
    {
      "cell_type": "code",
      "execution_count": null,
      "id": "d4872f58-d2c8-451d-8abe-96ee9d68e4ed",
      "metadata": {
        "id": "d4872f58-d2c8-451d-8abe-96ee9d68e4ed"
      },
      "outputs": [],
      "source": [
        "import pandas as pd\n",
        "import numpy as np"
      ]
    },
    {
      "cell_type": "code",
      "execution_count": null,
      "id": "7e16f30e-6a82-4186-9e43-06fc5100a586",
      "metadata": {
        "id": "7e16f30e-6a82-4186-9e43-06fc5100a586"
      },
      "outputs": [],
      "source": [
        "data=pd.read_csv(\"hw10_train.csv\")"
      ]
    },
    {
      "cell_type": "code",
      "execution_count": null,
      "id": "66954dab-4e66-4266-934d-828d6a6ed843",
      "metadata": {
        "id": "66954dab-4e66-4266-934d-828d6a6ed843"
      },
      "outputs": [],
      "source": [
        "features=['AT','AP','RH','V']\n",
        "X_train=data[features]"
      ]
    },
    {
      "cell_type": "code",
      "execution_count": null,
      "id": "f8898bf6-6937-4ba1-a258-96ee4685a57f",
      "metadata": {
        "id": "f8898bf6-6937-4ba1-a258-96ee4685a57f"
      },
      "outputs": [],
      "source": [
        "y_train=data['PE']"
      ]
    },
    {
      "cell_type": "code",
      "execution_count": null,
      "id": "b88ac34b-c971-405b-84af-265dbf2306d8",
      "metadata": {
        "id": "b88ac34b-c971-405b-84af-265dbf2306d8",
        "outputId": "a5440cd2-6f18-427e-8e49-72707e882a25"
      },
      "outputs": [
        {
          "data": {
            "text/html": [
              "<div>\n",
              "<style scoped>\n",
              "    .dataframe tbody tr th:only-of-type {\n",
              "        vertical-align: middle;\n",
              "    }\n",
              "\n",
              "    .dataframe tbody tr th {\n",
              "        vertical-align: top;\n",
              "    }\n",
              "\n",
              "    .dataframe thead th {\n",
              "        text-align: right;\n",
              "    }\n",
              "</style>\n",
              "<table border=\"1\" class=\"dataframe\">\n",
              "  <thead>\n",
              "    <tr style=\"text-align: right;\">\n",
              "      <th></th>\n",
              "      <th>AT</th>\n",
              "      <th>V</th>\n",
              "      <th>AP</th>\n",
              "      <th>RH</th>\n",
              "      <th>PE</th>\n",
              "      <th>pred_k25</th>\n",
              "    </tr>\n",
              "  </thead>\n",
              "  <tbody>\n",
              "    <tr>\n",
              "      <th>0</th>\n",
              "      <td>14.96</td>\n",
              "      <td>41.76</td>\n",
              "      <td>1024.07</td>\n",
              "      <td>73.17</td>\n",
              "      <td>463.26</td>\n",
              "      <td>465.6692</td>\n",
              "    </tr>\n",
              "    <tr>\n",
              "      <th>1</th>\n",
              "      <td>25.18</td>\n",
              "      <td>62.96</td>\n",
              "      <td>1020.04</td>\n",
              "      <td>59.08</td>\n",
              "      <td>444.37</td>\n",
              "      <td>445.0212</td>\n",
              "    </tr>\n",
              "    <tr>\n",
              "      <th>2</th>\n",
              "      <td>5.11</td>\n",
              "      <td>39.40</td>\n",
              "      <td>1012.16</td>\n",
              "      <td>92.14</td>\n",
              "      <td>488.56</td>\n",
              "      <td>486.4996</td>\n",
              "    </tr>\n",
              "    <tr>\n",
              "      <th>3</th>\n",
              "      <td>20.86</td>\n",
              "      <td>57.32</td>\n",
              "      <td>1010.24</td>\n",
              "      <td>76.64</td>\n",
              "      <td>446.48</td>\n",
              "      <td>445.3324</td>\n",
              "    </tr>\n",
              "    <tr>\n",
              "      <th>4</th>\n",
              "      <td>10.82</td>\n",
              "      <td>37.50</td>\n",
              "      <td>1009.23</td>\n",
              "      <td>96.62</td>\n",
              "      <td>473.90</td>\n",
              "      <td>473.2564</td>\n",
              "    </tr>\n",
              "    <tr>\n",
              "      <th>...</th>\n",
              "      <td>...</td>\n",
              "      <td>...</td>\n",
              "      <td>...</td>\n",
              "      <td>...</td>\n",
              "      <td>...</td>\n",
              "      <td>...</td>\n",
              "    </tr>\n",
              "    <tr>\n",
              "      <th>6495</th>\n",
              "      <td>24.01</td>\n",
              "      <td>60.84</td>\n",
              "      <td>1018.83</td>\n",
              "      <td>63.82</td>\n",
              "      <td>436.32</td>\n",
              "      <td>446.5524</td>\n",
              "    </tr>\n",
              "    <tr>\n",
              "      <th>6496</th>\n",
              "      <td>26.67</td>\n",
              "      <td>70.94</td>\n",
              "      <td>1007.70</td>\n",
              "      <td>56.56</td>\n",
              "      <td>439.13</td>\n",
              "      <td>434.4152</td>\n",
              "    </tr>\n",
              "    <tr>\n",
              "      <th>6497</th>\n",
              "      <td>11.57</td>\n",
              "      <td>44.63</td>\n",
              "      <td>1020.70</td>\n",
              "      <td>91.11</td>\n",
              "      <td>469.64</td>\n",
              "      <td>472.4368</td>\n",
              "    </tr>\n",
              "    <tr>\n",
              "      <th>6498</th>\n",
              "      <td>27.33</td>\n",
              "      <td>66.17</td>\n",
              "      <td>1011.06</td>\n",
              "      <td>64.55</td>\n",
              "      <td>443.89</td>\n",
              "      <td>438.7892</td>\n",
              "    </tr>\n",
              "    <tr>\n",
              "      <th>6499</th>\n",
              "      <td>14.51</td>\n",
              "      <td>44.84</td>\n",
              "      <td>1023.23</td>\n",
              "      <td>82.33</td>\n",
              "      <td>465.09</td>\n",
              "      <td>466.5356</td>\n",
              "    </tr>\n",
              "  </tbody>\n",
              "</table>\n",
              "<p>6500 rows × 6 columns</p>\n",
              "</div>"
            ],
            "text/plain": [
              "         AT      V       AP     RH      PE  pred_k25\n",
              "0     14.96  41.76  1024.07  73.17  463.26  465.6692\n",
              "1     25.18  62.96  1020.04  59.08  444.37  445.0212\n",
              "2      5.11  39.40  1012.16  92.14  488.56  486.4996\n",
              "3     20.86  57.32  1010.24  76.64  446.48  445.3324\n",
              "4     10.82  37.50  1009.23  96.62  473.90  473.2564\n",
              "...     ...    ...      ...    ...     ...       ...\n",
              "6495  24.01  60.84  1018.83  63.82  436.32  446.5524\n",
              "6496  26.67  70.94  1007.70  56.56  439.13  434.4152\n",
              "6497  11.57  44.63  1020.70  91.11  469.64  472.4368\n",
              "6498  27.33  66.17  1011.06  64.55  443.89  438.7892\n",
              "6499  14.51  44.84  1023.23  82.33  465.09  466.5356\n",
              "\n",
              "[6500 rows x 6 columns]"
            ]
          },
          "execution_count": 9,
          "metadata": {},
          "output_type": "execute_result"
        }
      ],
      "source": [
        "from sklearn.neighbors import KNeighborsRegressor\n",
        "knn_25=KNeighborsRegressor(n_neighbors=25)\n",
        "knn_25.fit(X_train,y_train)\n",
        "data['pred_k25']=knn_25.predict(X_train)\n",
        "data"
      ]
    },
    {
      "cell_type": "code",
      "execution_count": null,
      "id": "6dd7b47c-9510-465b-9e6d-e3ae46ce6745",
      "metadata": {
        "id": "6dd7b47c-9510-465b-9e6d-e3ae46ce6745",
        "outputId": "cf50224f-4551-4937-ef84-ee02d158e070"
      },
      "outputs": [
        {
          "data": {
            "text/plain": [
              "4.090453558914575"
            ]
          },
          "execution_count": 11,
          "metadata": {},
          "output_type": "execute_result"
        }
      ],
      "source": [
        "RMSE=np.sqrt(np.mean((data['PE']-data['pred_k25'])**2))\n",
        "RMSE"
      ]
    },
    {
      "cell_type": "code",
      "execution_count": null,
      "id": "60fac7c4-8dd3-486e-b12e-2359de7876d9",
      "metadata": {
        "id": "60fac7c4-8dd3-486e-b12e-2359de7876d9",
        "outputId": "9df3c6ba-fff3-4810-eb95-52be15af292e"
      },
      "outputs": [
        {
          "data": {
            "text/plain": [
              "3.125258707692307"
            ]
          },
          "execution_count": 17,
          "metadata": {},
          "output_type": "execute_result"
        }
      ],
      "source": [
        "MAE=np.mean(np.abs(data['PE']-data['pred_k25']))\n",
        "MAE"
      ]
    },
    {
      "cell_type": "code",
      "execution_count": null,
      "id": "a7bdec01-fb62-44a6-91a6-e756b7d04800",
      "metadata": {
        "id": "a7bdec01-fb62-44a6-91a6-e756b7d04800",
        "outputId": "c375798b-edd0-484d-fbe4-4f7ea0cffd3c"
      },
      "outputs": [
        {
          "data": {
            "text/plain": [
              "0.687463198811981"
            ]
          },
          "execution_count": 25,
          "metadata": {},
          "output_type": "execute_result"
        }
      ],
      "source": [
        "MAPE=np.mean(np.abs((data['PE']-data['pred_k25'])/data['PE']))*100\n",
        "MAPE"
      ]
    },
    {
      "cell_type": "code",
      "execution_count": null,
      "id": "a7e36c71-24ec-41de-a9f9-074d62cb1edc",
      "metadata": {
        "id": "a7e36c71-24ec-41de-a9f9-074d62cb1edc"
      },
      "outputs": [],
      "source": []
    }
  ],
  "metadata": {
    "kernelspec": {
      "display_name": "Python 3 (ipykernel)",
      "language": "python",
      "name": "python3"
    },
    "language_info": {
      "codemirror_mode": {
        "name": "ipython",
        "version": 3
      },
      "file_extension": ".py",
      "mimetype": "text/x-python",
      "name": "python",
      "nbconvert_exporter": "python",
      "pygments_lexer": "ipython3",
      "version": "3.12.4"
    },
    "colab": {
      "provenance": [],
      "include_colab_link": true
    }
  },
  "nbformat": 4,
  "nbformat_minor": 5
}